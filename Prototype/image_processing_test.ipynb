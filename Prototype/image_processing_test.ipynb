{
 "cells": [
  {
   "cell_type": "code",
   "execution_count": null,
   "id": "87dfdcfc",
   "metadata": {},
   "outputs": [],
   "source": [
    "import cv2\n",
    "import matplotlib.pyplot as plt\n",
    "#import matplotlib.image as mpimg\n",
    "import os\n",
    "from deepface import DeepFace as df\n",
    "#from retinaface import RetinaFace as m\n",
    "#from PIL import Image\n",
    "#import imagehash\n",
    "import pandas as pd\n",
    "import numpy as np\n",
    "import mediapipe as mp"
   ]
  },
  {
   "cell_type": "code",
   "execution_count": null,
   "id": "152d47ca",
   "metadata": {},
   "outputs": [],
   "source": [
    "\n"
   ]
  },
  {
   "cell_type": "code",
   "execution_count": null,
   "id": "65d9dea6",
   "metadata": {},
   "outputs": [],
   "source": []
  },
  {
   "cell_type": "code",
   "execution_count": null,
   "id": "f79b9f47",
   "metadata": {},
   "outputs": [],
   "source": [
    "%%time\n",
    "#image denoising using opencv medianfilter\n",
    "\n",
    "import numpy as np\n",
    "\n",
    "def deblur_image(image):\n",
    "    # Perform deblurring using your preferred method\n",
    "    # This could be a function like the one provided earlier\n",
    "    # For simplicity, I'll assume a placeholder deblurring function here\n",
    "    deblurred_image = cv2.medianBlur(image, 5)  # Placeholder deblurring function\n",
    "    return deblurred_image\n",
    " \n",
    "deblurred_face = deblur_image('blurred_img_path')\n",
    "plt.imshow(deblurred_face)\n",
    "   "
   ]
  },
  {
   "cell_type": "code",
   "execution_count": null,
   "id": "e5a5af15",
   "metadata": {},
   "outputs": [],
   "source": [
    "#wiener filter deblurring\n",
    "import numpy as np\n",
    "import matplotlib.pyplot as plt\n",
    "from scipy.signal import convolve2d\n",
    "from skimage import color, data\n",
    "from scipy.ndimage import gaussian_filter\n",
    "from skimage import img_as_float\n",
    "\n",
    "def wiener_filter_deblur(blurred_image, psf, regularization):\n",
    "    # Convert the image to grayscale if it's in color\n",
    "    if blurred_image.ndim == 3:\n",
    "        blurred_image = color.rgb2gray(blurred_image)\n",
    "\n",
    "    # Convert the PSF and the blurred image to float\n",
    "    psf = psf.astype(float)\n",
    "    blurred_image = blurred_image.astype(float)\n",
    "\n",
    "    # Resize the PSF to match the size of the blurred image\n",
    "    psf_resized = np.zeros_like(blurred_image)\n",
    "    psf_resized[:psf.shape[0], :psf.shape[1]] = psf\n",
    "\n",
    "    # Apply the Wiener filter to deblur the image\n",
    "    wiener_filter = np.conj(psf_resized) / (np.abs(psf_resized) ** 2 + regularization)\n",
    "    deblurred_image = np.real(np.fft.ifft2(np.fft.fft2(blurred_image) * np.fft.fft2(wiener_filter)))\n",
    "\n",
    "    return deblurred_image\n",
    "\n",
    "# Load your own blurred image\n",
    "blurred_image = plt.imread('img_path')\n",
    "\n",
    "\n",
    "# Define the PSF (Point Spread Function)\n",
    "psf = np.ones((5, 5)) / 25  # Example PSF, you should replace it with your actual PSF\n",
    "\n",
    "# Set the regularization parameter for the Wiener filter\n",
    "regularization_param = 0.1  # Adjust this parameter based on your image characteristics\n",
    "\n",
    "# Deblur the image using the Wiener filter\n",
    "deblurred_image = wiener_filter_deblur(blurred_image, psf, regularization_param)\n",
    "\n",
    "# Normalize the deblurred image to range [0, 1]\n",
    "deblurred_image_normalized = (deblurred_image - np.min(deblurred_image)) / (np.max(deblurred_image) - np.min(deblurred_image))\n",
    "\n",
    "deblurred_image_uint8 = (deblurred_image_normalized * 255).astype(np.uint8)\n",
    "# Convert the deblurred image to RGB\n",
    "deblurred_image_rgb = color.gray2rgb(deblurred_image_uint8)\n",
    "\n",
    "# Plot the results\n",
    "plt.figure(figsize=(12, 6))\n",
    "plt.subplot(131)\n",
    "plt.imshow(blurred_image, cmap='gray')\n",
    "plt.title('Blurred Image')\n",
    "plt.axis('off')\n",
    "\n",
    "plt.subplot(132)\n",
    "plt.imshow(deblurred_image_rgb)\n",
    "plt.title('Deblurred Image (Wiener Filter)')\n",
    "plt.axis('off')\n",
    "\n",
    "plt.tight_layout()\n",
    "plt.show()"
   ]
  },
  {
   "cell_type": "code",
   "execution_count": null,
   "id": "10b0e53a",
   "metadata": {},
   "outputs": [],
   "source": [
    "#contrast enhancement using clahe\n",
    "import cv2\n",
    "import numpy as np\n",
    "\n",
    "img = cv2.imread('img_path',1)\n",
    "# converting to LAB color space\n",
    "lab= cv2.cvtColor(img, cv2.COLOR_BGR2LAB)\n",
    "l_channel, a, b = cv2.split(lab)\n",
    "\n",
    "# Applying CLAHE to L-channel\n",
    "# feel free to try different values for the limit and grid size:\n",
    "clahe = cv2.createCLAHE(clipLimit=2.0, tileGridSize=(8,8))\n",
    "cl = clahe.apply(l_channel)\n",
    "\n",
    "# merge the CLAHE enhanced L-channel with the a and b channel\n",
    "limg = cv2.merge((cl,a,b))\n",
    "\n",
    "# Converting image from LAB Color model to BGR color spcae\n",
    "enhanced_img = cv2.cvtColor(limg, cv2.COLOR_LAB2RGB)\n",
    "\n",
    "# Stacking the original image with the enhanced image\n",
    "result = np.hstack((img, enhanced_img))\n",
    "cv2.imshow('Result', result)"
   ]
  },
  {
   "cell_type": "code",
   "execution_count": null,
   "id": "c4ddb4c1",
   "metadata": {},
   "outputs": [],
   "source": [
    "plt.imshow(enhanced_img)"
   ]
  },
  {
   "cell_type": "code",
   "execution_count": null,
   "id": "3b9e8bfa",
   "metadata": {},
   "outputs": [],
   "source": []
  }
 ],
 "metadata": {
  "kernelspec": {
   "display_name": "Python 3 (ipykernel)",
   "language": "python",
   "name": "python3"
  },
  "language_info": {
   "codemirror_mode": {
    "name": "ipython",
    "version": 3
   },
   "file_extension": ".py",
   "mimetype": "text/x-python",
   "name": "python",
   "nbconvert_exporter": "python",
   "pygments_lexer": "ipython3",
   "version": "3.11.5"
  }
 },
 "nbformat": 4,
 "nbformat_minor": 5
}
