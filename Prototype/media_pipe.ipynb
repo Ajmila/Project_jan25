{
 "cells": [
  {
   "cell_type": "markdown",
   "metadata": {
    "id": "Teqte_gjzv5N"
   },
   "source": [
    "# **Installation**"
   ]
  },
  {
   "cell_type": "code",
   "execution_count": null,
   "metadata": {
    "id": "wCJ9P9jAzUZc"
   },
   "outputs": [],
   "source": [
    "pip install mediapipe --user"
   ]
  },
  {
   "cell_type": "markdown",
   "metadata": {
    "id": "jUBCYMNMz2KU"
   },
   "source": [
    "# **Imports**"
   ]
  },
  {
   "cell_type": "code",
   "execution_count": null,
   "metadata": {
    "executionInfo": {
     "elapsed": 7105,
     "status": "ok",
     "timestamp": 1707485421233,
     "user": {
      "displayName": "38 MUHAMMAD SHALIM T",
      "userId": "13798026193428429508"
     },
     "user_tz": -330
    },
    "id": "ld5cwNPozlF4"
   },
   "outputs": [],
   "source": [
    "import mediapipe as mp\n",
    "import cv2\n",
    "import matplotlib.pyplot as plt\n",
    "import matplotlib.image as mpimg"
   ]
  },
  {
   "cell_type": "code",
   "execution_count": null,
   "metadata": {
    "id": "pRsTZ_Qoz_0h"
   },
   "outputs": [],
   "source": [
    "path = 'Data/Video/input2.MOV'\n",
    "video = cv2.VideoCapture(path)\n",
    "count = 0\n",
    "frames_arr = []\n",
    "while video.isOpened():\n",
    "    ret, frame = video.read()\n",
    "\n",
    "    if not ret:\n",
    "        break\n",
    "    frames_arr.append(frame)                                         # Frames stored in frames_arr\n",
    "    count += 1\n",
    "video.release()\n",
    "print(len(frames_arr), count)\n",
    "\n",
    "\n",
    "img = frames_arr[0]\n",
    "img = cv2.cvtColor(img, cv2.COLOR_BGR2RGB)\n",
    "plt.imshow(img)"
   ]
  },
  {
   "cell_type": "code",
   "execution_count": null,
   "metadata": {
    "colab": {
     "base_uri": "https://localhost:8080/"
    },
    "executionInfo": {
     "elapsed": 64908,
     "status": "ok",
     "timestamp": 1707485534117,
     "user": {
      "displayName": "38 MUHAMMAD SHALIM T",
      "userId": "13798026193428429508"
     },
     "user_tz": -330
    },
    "id": "ek0BMEfR5QDV",
    "outputId": "cc574be1-e15f-48a9-a656-4646d606fe9e"
   },
   "outputs": [],
   "source": [
    "frames = []\n",
    "frames.append(frames_arr[0])\n",
    "orb = cv2.ORB_create()\n",
    "bf = cv2.BFMatcher(cv2.NORM_HAMMING, crossCheck=True)\n",
    "for i in range(1, len(frames_arr)):\n",
    "\n",
    "    keypoints1, descriptors1 = orb.detectAndCompute(frames[-1], None)\n",
    "    keypoints2, descriptors2 = orb.detectAndCompute(frames_arr[i], None)\n",
    "\n",
    "    matches = bf.match(descriptors1, descriptors2)\n",
    "\n",
    "    #matches = sorted(matches, key=lambda x: x.distance)\n",
    "\n",
    "    if len(matches) < 200:\n",
    "        frames.append(frames_arr[i])\n",
    "print(len(frames))"
   ]
  },
  {
   "cell_type": "code",
   "execution_count": null,
   "metadata": {
    "colab": {
     "base_uri": "https://localhost:8080/"
    },
    "executionInfo": {
     "elapsed": 3213,
     "status": "ok",
     "timestamp": 1707486911569,
     "user": {
      "displayName": "38 MUHAMMAD SHALIM T",
      "userId": "13798026193428429508"
     },
     "user_tz": -330
    },
    "id": "X4m6sLKzCnnC",
    "outputId": "2438e3b6-6fa4-439b-af25-3006340479a3"
   },
   "outputs": [],
   "source": [
    "detected_faces = []\n",
    "mp_face_detction = mp.solutions.face_detection\n",
    "for frame in frames:\n",
    "    with mp_face_detction.FaceDetection(model_selection = 1, min_detection_confidence = 0.5) as face_detection:\n",
    "        results = face_detection.process(cv2.cvtColor(frame, cv2.COLOR_BGR2RGB))\n",
    "        for detection in results.detections:\n",
    "            box = detection.location_data.relative_bounding_box\n",
    "            x_start, y_start = int(box.xmin * img.shape[1]), int(box.ymin * img.shape[0])\n",
    "            x_end, y_end = int((box.xmin + box.width) * img.shape[1]), int((box.ymin + box.height) * img.shape[0])\n",
    "\n",
    "            if x_start < 0 or y_start < 0:\n",
    "                continue\n",
    "\n",
    "            face = frame[y_start:y_end, x_start:x_end]\n",
    "            face = cv2.cvtColor(face,cv2.COLOR_BGR2RGB)\n",
    "            detected_faces.append(face)\n",
    "print(len(detected_faces))"
   ]
  },
  {
   "cell_type": "code",
   "execution_count": null,
   "metadata": {
    "colab": {
     "base_uri": "https://localhost:8080/",
     "height": 452
    },
    "executionInfo": {
     "elapsed": 1071,
     "status": "ok",
     "timestamp": 1707487148222,
     "user": {
      "displayName": "38 MUHAMMAD SHALIM T",
      "userId": "13798026193428429508"
     },
     "user_tz": -330
    },
    "id": "qMwNh0k7KW7H",
    "outputId": "aebc0269-9762-484e-c072-7cb7aa68152c"
   },
   "outputs": [],
   "source": []
  },
  {
   "cell_type": "code",
   "execution_count": null,
   "metadata": {},
   "outputs": [],
   "source": [
    "%%time\n",
    "from deepface import DeepFace as df\n",
    "models=[]\n",
    "res=[]\n",
    "present=[]\n",
    "for i in range(len(detected_faces)):\n",
    "    model=df.find(img_path=detected_faces[i],db_path='Data/known_faces',model_name=\"Facenet\",distance_metric=\"euclidean\",enforce_detection=False,normalization=\"Facenet\",detector_backend='retinaface')\n",
    "    models.append(model)\n",
    "print()\n",
    "count = 0\n",
    "for model in models:\n",
    "    if len(model[0]) > 0:\n",
    "        name=model[0]['identity'].values[0].split('\\\\')[-1].split('/')[-1].split('.')[-2]\n",
    "        print(count , \"_ \", name)\n",
    "        if name not in present:\n",
    "            present.append(name)\n",
    "    else:\n",
    "        print('Unknown Face detected')\n",
    "    count += 1\n",
    "print()\n",
    "print(present)"
   ]
  },
  {
   "cell_type": "code",
   "execution_count": null,
   "metadata": {},
   "outputs": [],
   "source": []
  }
 ],
 "metadata": {
  "colab": {
   "authorship_tag": "ABX9TyMv00rRp905Wu7IE/QAmIKT",
   "provenance": []
  },
  "kernelspec": {
   "display_name": "Python 3 (ipykernel)",
   "language": "python",
   "name": "python3"
  },
  "language_info": {
   "codemirror_mode": {
    "name": "ipython",
    "version": 3
   },
   "file_extension": ".py",
   "mimetype": "text/x-python",
   "name": "python",
   "nbconvert_exporter": "python",
   "pygments_lexer": "ipython3",
   "version": "3.11.5"
  }
 },
 "nbformat": 4,
 "nbformat_minor": 1
}
