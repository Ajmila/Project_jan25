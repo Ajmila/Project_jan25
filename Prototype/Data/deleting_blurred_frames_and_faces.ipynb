{
 "cells": [
  {
   "cell_type": "code",
   "execution_count": 6,
   "id": "5ea89af2",
   "metadata": {},
   "outputs": [],
   "source": [
    "import cv2\n",
    "import matplotlib.pyplot as plt\n",
    "#import matplotlib.image as mpimg\n",
    "import os\n",
    "from deepface import DeepFace as df\n",
    "#from retinaface import RetinaFace as m\n",
    "#from PIL import Image\n",
    "#import imagehash\n",
    "import pandas as pd\n",
    "# from pymongo import MongoClient\n",
    "# from deepface.commons import functions\n",
    "# from tqdm import tqdm\n",
    "import mediapipe as mp"
   ]
  },
  {
   "cell_type": "code",
   "execution_count": 7,
   "id": "d3734a25",
   "metadata": {},
   "outputs": [
    {
     "name": "stdout",
     "output_type": "stream",
     "text": [
      "0 0\n"
     ]
    },
    {
     "ename": "IndexError",
     "evalue": "list index out of range",
     "output_type": "error",
     "traceback": [
      "\u001b[1;31m---------------------------------------------------------------------------\u001b[0m",
      "\u001b[1;31mIndexError\u001b[0m                                Traceback (most recent call last)",
      "File \u001b[1;32m<timed exec>:15\u001b[0m\n",
      "\u001b[1;31mIndexError\u001b[0m: list index out of range"
     ]
    }
   ],
   "source": [
    "%%time\n",
    "video = cv2.VideoCapture('Data/Video/input2.MOV')\n",
    "count = 0\n",
    "frames_arr = []\n",
    "while video.isOpened():\n",
    "    ret, frame = video.read()\n",
    "\n",
    "    if not ret:\n",
    "        break\n",
    "    frames_arr.append(frame)                                         # Frames stored in frames_arr\n",
    "    count += 1\n",
    "video.release()\n",
    "print(len(frames_arr), count)\n",
    "\n",
    "\n",
    "img = frames_arr[0]\n",
    "img = cv2.cvtColor(img, cv2.COLOR_BGR2RGB)\n",
    "plt.imshow(img)"
   ]
  },
  {
   "cell_type": "code",
   "execution_count": null,
   "id": "13ea42a8",
   "metadata": {},
   "outputs": [],
   "source": []
  },
  {
   "cell_type": "code",
   "execution_count": null,
   "id": "e0b9da08",
   "metadata": {},
   "outputs": [],
   "source": [
    "%%time\n",
    "frames = []\n",
    "frames.append(frames_arr[0])\n",
    "orb = cv2.ORB_create()\n",
    "bf = cv2.BFMatcher(cv2.NORM_HAMMING, crossCheck=True)\n",
    "for i in range(1, len(frames_arr)):\n",
    "    keypoints1, descriptors1 = orb.detectAndCompute(frames[-1], None)\n",
    "    keypoints2, descriptors2 = orb.detectAndCompute(frames_arr[i], None)\n",
    "    matches = bf.match(descriptors1, descriptors2)\n",
    "    \n",
    "    #matches = sorted(matches, key=lambda x: x.distance)\n",
    "    \n",
    "    if len(matches) < 200:\n",
    "        frames.append(frames_arr[i])\n",
    "print(len(frames))"
   ]
  },
  {
   "cell_type": "code",
   "execution_count": null,
   "id": "ab05f3c5",
   "metadata": {},
   "outputs": [],
   "source": [
    "output_folder='Data/intermediate_results/original_frames'\n",
    "for i, frame in enumerate(frames):\n",
    "        cv2.imwrite(os.path.join(output_folder, f'frame_{i}.jpg'), frame)"
   ]
  },
  {
   "cell_type": "code",
   "execution_count": null,
   "id": "05cbcd85",
   "metadata": {},
   "outputs": [],
   "source": [
    "def calculate_blurriness(frame):\n",
    "    gray = cv2.cvtColor(frame, cv2.COLOR_RGB2GRAY)\n",
    "    return cv2.Laplacian(gray, cv2.CV_64F).var()\n",
    "\n",
    "def remove_blurred_frames(frame_list, threshold=60):\n",
    "    sharp_frames = []\n",
    "    count=0\n",
    "    for frame in frame_list:\n",
    "        sharpness = calculate_blurriness(frame)\n",
    "        print(\"frame\",count,\" \",sharpness)\n",
    "        count+=1\n",
    "        if sharpness > threshold:\n",
    "            sharp_frames.append(frame)\n",
    "    return sharp_frames\n",
    "\n",
    "\n",
    "# Assuming frames is a list of numpy arrays where each array represents a frame in BGR format\n",
    "# Adjust the threshold value as per your requirement\n",
    "sharp_frames = remove_blurred_frames(frames, threshold=60)\n",
    "\n",
    "# Now sharp_frames will contain the list of frames without blurred ones"
   ]
  },
  {
   "cell_type": "code",
   "execution_count": null,
   "id": "deb69dee",
   "metadata": {},
   "outputs": [],
   "source": [
    "output_folder='Data/intermediate_results/sharp_frames'\n",
    "for i, frame in enumerate(sharp_frames):\n",
    "        cv2.imwrite(os.path.join(output_folder, f'frame_{i}.jpg'), frame)"
   ]
  },
  {
   "cell_type": "code",
   "execution_count": null,
   "id": "d07c2ed5",
   "metadata": {},
   "outputs": [],
   "source": [
    "%%time\n",
    "detected_faces = []\n",
    "img = frames_arr[0]\n",
    "mp_face_detction = mp.solutions.face_detection\n",
    "for frame in frames:\n",
    "    with mp_face_detction.FaceDetection(model_selection = 1, min_detection_confidence = 0.5) as face_detection:\n",
    "        results = face_detection.process(cv2.cvtColor(frame, cv2.COLOR_BGR2RGB))\n",
    "        for detection in results.detections:\n",
    "            box = detection.location_data.relative_bounding_box\n",
    "            x_start, y_start = int(box.xmin * img.shape[1]), int(box.ymin * img.shape[0])\n",
    "            x_end, y_end = int((box.xmin + box.width) * img.shape[1]), int((box.ymin + box.height) * img.shape[0])\n",
    "\n",
    "            if x_start < 0 or y_start < 0:\n",
    "                continue\n",
    "\n",
    "            face = frame[y_start:y_end, x_start:x_end]\n",
    "            face = cv2.cvtColor(face,cv2.COLOR_BGR2RGB)\n",
    "            detected_faces.append(face)\n",
    "print(len(detected_faces))"
   ]
  },
  {
   "cell_type": "code",
   "execution_count": null,
   "id": "c411b8a7",
   "metadata": {},
   "outputs": [],
   "source": [
    "output_folder='Data/intermediate_results/detected_faces'\n",
    "for i, face in enumerate(detected_faces):\n",
    "        face=cv2.cvtColor(face, cv2.COLOR_BGR2RGB)\n",
    "        cv2.imwrite(os.path.join(output_folder, f'face_{i}.jpg'), face)"
   ]
  },
  {
   "cell_type": "code",
   "execution_count": null,
   "id": "e8cf4bfc",
   "metadata": {},
   "outputs": [],
   "source": [
    "faces = []\n",
    "faces.append(cv2.convertScaleAbs(detected_faces[0]))\n",
    "orb = cv2.ORB_create()\n",
    "bf = cv2.BFMatcher(cv2.NORM_HAMMING, crossCheck=True)\n",
    "for i in range(1, len(detected_faces)):\n",
    "    img2 = cv2.convertScaleAbs(detected_faces[i])\n",
    "\n",
    "    \n",
    "\n",
    "    keypoints1, descriptors1 = orb.detectAndCompute(faces[-1], None)\n",
    "    keypoints2, descriptors2 = orb.detectAndCompute(img2, None)\n",
    "\n",
    "    if descriptors2 is None:\n",
    "        \n",
    "        continue\n",
    "\n",
    "    bf = cv2.BFMatcher(cv2.NORM_HAMMING, crossCheck=True)\n",
    "\n",
    "    matches = bf.match(descriptors1, descriptors2)\n",
    "\n",
    "    #matches = sorted(matches, key=lambda x: x.distance)\n",
    "\n",
    "    if len(matches) < 200:\n",
    "        faces.append(detected_faces[i])\n",
    "\n",
    "detected_faces[:]=faces[:]\n",
    "print(len(detected_faces))\n",
    "\n",
    "plt.imshow(detected_faces[2])"
   ]
  },
  {
   "cell_type": "code",
   "execution_count": null,
   "id": "df85b76d",
   "metadata": {},
   "outputs": [],
   "source": [
    "output_folder='Data/intermediate_results/detected_faces_similar_removed'\n",
    "for i, face in enumerate(detected_faces):\n",
    "        face=cv2.cvtColor(face, cv2.COLOR_BGR2RGB)\n",
    "        cv2.imwrite(os.path.join(output_folder, f'face_{i}.jpg'), face)"
   ]
  },
  {
   "cell_type": "code",
   "execution_count": null,
   "id": "210ae53d",
   "metadata": {},
   "outputs": [],
   "source": [
    "\n",
    "\n",
    "def calculate_blurriness(image):\n",
    "    gray = cv2.cvtColor(image, cv2.COLOR_RGB2GRAY)\n",
    "    return cv2.Laplacian(gray, cv2.CV_64F).var()\n",
    "\n",
    "def remove_blurred_faces(face_list, threshold=100):\n",
    "    sharp_faces = []\n",
    "    for face_image in face_list:\n",
    "        sharpness = calculate_blurriness(face_image)\n",
    "        print(sharpness)\n",
    "        if sharpness > threshold:\n",
    "            sharp_faces.append(face_image)\n",
    "    return sharp_faces\n",
    "\n",
    "# Example usage:\n",
    "\n",
    "# Assuming detected_faces is a list of numpy arrays where each array represents a face image in BGR format\n",
    "# Adjust the threshold value as per your requirement\n",
    "sharp_faces = remove_blurred_faces(detected_faces, threshold=100)\n",
    "\n",
    "# Now sharp_faces will contain the list of faces without blurred or unclear ones"
   ]
  },
  {
   "cell_type": "code",
   "execution_count": null,
   "id": "52ec14e7",
   "metadata": {},
   "outputs": [],
   "source": [
    "output_folder='Data/intermediate_results/sharp_faces'\n",
    "for i, face in enumerate(detected_faces):\n",
    "        face=cv2.cvtColor(face, cv2.COLOR_BGR2RGB)\n",
    "        cv2.imwrite(os.path.join(output_folder, f'face_{i}.jpg'), face)"
   ]
  },
  {
   "cell_type": "code",
   "execution_count": null,
   "id": "24c1a2c6",
   "metadata": {},
   "outputs": [],
   "source": [
    "models=[]\n",
    "res=[]\n",
    "present=[]\n",
    "for i in range(len(detected_faces)):\n",
    "    model=df.find(img_path=detected_faces[i],db_path='Data/known_faces',model_name=\"Facenet\",distance_metric=\"euclidean\",enforce_detection=False,normalization=\"Facenet\",detector_backend='mediapipe')\n",
    "    models.append(model)\n",
    "print()\n",
    "count = 0\n",
    "for model in models:\n",
    "    if len(model[0]) > 0:\n",
    "        name=model[0]['identity'].values[0].split('\\\\')[-1].split('/')[-1].split('.')[-2]\n",
    "        print(count , \"_ \", name)\n",
    "        if name not in present:\n",
    "            present.append(name)\n",
    "    else:\n",
    "        print('Unknown Face detected')\n",
    "    count += 1"
   ]
  }
 ],
 "metadata": {
  "kernelspec": {
   "display_name": "Python 3 (ipykernel)",
   "language": "python",
   "name": "python3"
  },
  "language_info": {
   "codemirror_mode": {
    "name": "ipython",
    "version": 3
   },
   "file_extension": ".py",
   "mimetype": "text/x-python",
   "name": "python",
   "nbconvert_exporter": "python",
   "pygments_lexer": "ipython3",
   "version": "3.11.5"
  }
 },
 "nbformat": 4,
 "nbformat_minor": 5
}
