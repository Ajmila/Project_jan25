{
 "cells": [
  {
   "cell_type": "markdown",
   "id": "f17565f4",
   "metadata": {},
   "source": [
    "# imports"
   ]
  },
  {
   "cell_type": "code",
   "execution_count": 1,
   "id": "abc9cf84",
   "metadata": {},
   "outputs": [],
   "source": [
    "import cv2\n",
    "import matplotlib.pyplot as plt\n",
    "from CaptureVideo import VideoCaptureManager\n",
    "import DetectFaces\n",
    "import ConnectDatabase\n",
    "#import StoreStudentData\n",
    "import RecognitionWithDeepfaceFind as rdf\n",
    "import RecognitionWithDatabase as rdb\n",
    "from datetime import datetime\n",
    "import MarkAttendance"
   ]
  },
  {
   "cell_type": "markdown",
   "id": "bac273c8",
   "metadata": {},
   "source": [
    "# capture video using camera and extract frames"
   ]
  },
  {
   "cell_type": "code",
   "execution_count": 2,
   "id": "abc87913",
   "metadata": {},
   "outputs": [
    {
     "name": "stdout",
     "output_type": "stream",
     "text": [
      "Press 's' to start capture, 'q' to quit: s\n",
      "Enter capture duration (in seconds): 4\n",
      "Press 's' to start capture, 'q' to quit: q\n",
      "original Number of frames: 98\n",
      "reduced number of frames:27\n"
     ]
    }
   ],
   "source": [
    "video_manager = VideoCaptureManager()\n",
    "\n",
    "while True:\n",
    "    user_input = input(\"Press 's' to start capture, 'q' to quit: \")\n",
    "    if user_input == 's':\n",
    "        capture_duration = int(input(\"Enter capture duration (in seconds): \"))\n",
    "        video_manager.start_capture(capture_duration)\n",
    "    elif user_input == 'q':\n",
    "        break\n",
    "    else:\n",
    "        print(\"Invalid input. Press 's' to start capture, 'q' to quit.\")\n",
    "\n",
    "frames_arr = video_manager.read_frames_from_buffer()\n",
    "if frames_arr:\n",
    "    print(f\"original Number of frames: {len(frames_arr)}\")\n",
    "    frames=video_manager.reduce_frame_count(frames_arr)\n",
    "    print(f\"reduced number of frames:{len(frames)}\")\n",
    "else:\n",
    "    print(\"No frames captured.\")"
   ]
  },
  {
   "cell_type": "code",
   "execution_count": null,
   "id": "1836dce3",
   "metadata": {},
   "outputs": [],
   "source": [
    "plt.imshow(frames[20])"
   ]
  },
  {
   "cell_type": "markdown",
   "id": "70ea7305",
   "metadata": {},
   "source": [
    "# extract frames from stored video"
   ]
  },
  {
   "cell_type": "code",
   "execution_count": null,
   "id": "4c35ebcf",
   "metadata": {},
   "outputs": [],
   "source": [
    "%%time\n",
    "video_manager = VideoCaptureManager()\n",
    "frames_arr=video_manager.read_video()\n",
    "print(len(frames_arr))\n",
    "frames=video_manager.reduce_frame_count(frames_arr)\n",
    "print(f\"reduced number of frames:{len(frames)}\")\n",
    "img = frames[0]\n",
    "img = cv2.cvtColor(img, cv2.COLOR_BGR2RGB)\n",
    "plt.imshow(img)\n"
   ]
  },
  {
   "cell_type": "markdown",
   "id": "a63f9944",
   "metadata": {},
   "source": [
    "# detect faces"
   ]
  },
  {
   "cell_type": "code",
   "execution_count": 3,
   "id": "74e13470",
   "metadata": {},
   "outputs": [
    {
     "name": "stdout",
     "output_type": "stream",
     "text": [
      "27\n",
      "after deleting similar faces: 27\n",
      "CPU times: total: 1.12 s\n",
      "Wall time: 1.62 s\n"
     ]
    }
   ],
   "source": [
    "%%time\n",
    "detected_faces1=DetectFaces.detect_faces(frames)\n",
    "print(len(detected_faces1))\n",
    "detected_faces=DetectFaces.reduce_count(detected_faces1)\n",
    "print(\"after deleting similar faces:\",len(detected_faces))\n"
   ]
  },
  {
   "cell_type": "markdown",
   "id": "4e12c822",
   "metadata": {},
   "source": [
    "# recognition without db"
   ]
  },
  {
   "cell_type": "code",
   "execution_count": null,
   "id": "f0822165",
   "metadata": {},
   "outputs": [],
   "source": [
    "rdf.recognize(detected_faces)"
   ]
  },
  {
   "cell_type": "markdown",
   "id": "cd61d6d1",
   "metadata": {},
   "source": [
    "# recognition with db\n"
   ]
  },
  {
   "cell_type": "code",
   "execution_count": null,
   "id": "6e72e0f9",
   "metadata": {},
   "outputs": [],
   "source": [
    "#StoreStudentData.store_student_data()"
   ]
  },
  {
   "cell_type": "code",
   "execution_count": 4,
   "id": "71e50248",
   "metadata": {},
   "outputs": [
    {
     "name": "stdout",
     "output_type": "stream",
     "text": [
      "Pinged your deployment. You successfully connected to MongoDB!\n",
      "WARNING: Representations for images in C:\\Users\\wigar\\AppData\\Local\\Temp\\tmpd4a4o48c folder were previously stored in representations_facenet.pkl. If you added new instances after the creation, then please delete this file and call find function again. It will create it again.\n",
      "There are  54  representations found in  representations_facenet.pkl\n",
      "find function lasts  8.34115719795227  seconds\n",
      "WARNING: Representations for images in C:\\Users\\wigar\\AppData\\Local\\Temp\\tmpd4a4o48c folder were previously stored in representations_facenet.pkl. If you added new instances after the creation, then please delete this file and call find function again. It will create it again.\n",
      "There are  54  representations found in  representations_facenet.pkl\n",
      "find function lasts  0.14548277854919434  seconds\n",
      "WARNING: Representations for images in C:\\Users\\wigar\\AppData\\Local\\Temp\\tmpd4a4o48c folder were previously stored in representations_facenet.pkl. If you added new instances after the creation, then please delete this file and call find function again. It will create it again.\n",
      "There are  54  representations found in  representations_facenet.pkl\n",
      "find function lasts  0.1402595043182373  seconds\n",
      "WARNING: Representations for images in C:\\Users\\wigar\\AppData\\Local\\Temp\\tmpd4a4o48c folder were previously stored in representations_facenet.pkl. If you added new instances after the creation, then please delete this file and call find function again. It will create it again.\n",
      "There are  54  representations found in  representations_facenet.pkl\n",
      "find function lasts  0.13364028930664062  seconds\n",
      "WARNING: Representations for images in C:\\Users\\wigar\\AppData\\Local\\Temp\\tmpd4a4o48c folder were previously stored in representations_facenet.pkl. If you added new instances after the creation, then please delete this file and call find function again. It will create it again.\n",
      "There are  54  representations found in  representations_facenet.pkl\n",
      "find function lasts  0.13478422164916992  seconds\n",
      "WARNING: Representations for images in C:\\Users\\wigar\\AppData\\Local\\Temp\\tmpd4a4o48c folder were previously stored in representations_facenet.pkl. If you added new instances after the creation, then please delete this file and call find function again. It will create it again.\n",
      "There are  54  representations found in  representations_facenet.pkl\n",
      "find function lasts  0.12813878059387207  seconds\n",
      "WARNING: Representations for images in C:\\Users\\wigar\\AppData\\Local\\Temp\\tmpd4a4o48c folder were previously stored in representations_facenet.pkl. If you added new instances after the creation, then please delete this file and call find function again. It will create it again.\n",
      "There are  54  representations found in  representations_facenet.pkl\n",
      "find function lasts  0.13321256637573242  seconds\n",
      "WARNING: Representations for images in C:\\Users\\wigar\\AppData\\Local\\Temp\\tmpd4a4o48c folder were previously stored in representations_facenet.pkl. If you added new instances after the creation, then please delete this file and call find function again. It will create it again.\n",
      "There are  54  representations found in  representations_facenet.pkl\n",
      "find function lasts  0.1744832992553711  seconds\n",
      "WARNING: Representations for images in C:\\Users\\wigar\\AppData\\Local\\Temp\\tmpd4a4o48c folder were previously stored in representations_facenet.pkl. If you added new instances after the creation, then please delete this file and call find function again. It will create it again.\n",
      "There are  54  representations found in  representations_facenet.pkl\n",
      "find function lasts  0.19816350936889648  seconds\n",
      "WARNING: Representations for images in C:\\Users\\wigar\\AppData\\Local\\Temp\\tmpd4a4o48c folder were previously stored in representations_facenet.pkl. If you added new instances after the creation, then please delete this file and call find function again. It will create it again.\n",
      "There are  54  representations found in  representations_facenet.pkl\n",
      "find function lasts  0.1366889476776123  seconds\n",
      "WARNING: Representations for images in C:\\Users\\wigar\\AppData\\Local\\Temp\\tmpd4a4o48c folder were previously stored in representations_facenet.pkl. If you added new instances after the creation, then please delete this file and call find function again. It will create it again.\n",
      "There are  54  representations found in  representations_facenet.pkl\n",
      "find function lasts  0.13217997550964355  seconds\n",
      "WARNING: Representations for images in C:\\Users\\wigar\\AppData\\Local\\Temp\\tmpd4a4o48c folder were previously stored in representations_facenet.pkl. If you added new instances after the creation, then please delete this file and call find function again. It will create it again.\n",
      "There are  54  representations found in  representations_facenet.pkl\n",
      "find function lasts  0.13252997398376465  seconds\n",
      "WARNING: Representations for images in C:\\Users\\wigar\\AppData\\Local\\Temp\\tmpd4a4o48c folder were previously stored in representations_facenet.pkl. If you added new instances after the creation, then please delete this file and call find function again. It will create it again.\n",
      "There are  54  representations found in  representations_facenet.pkl\n",
      "find function lasts  0.1342923641204834  seconds\n",
      "WARNING: Representations for images in C:\\Users\\wigar\\AppData\\Local\\Temp\\tmpd4a4o48c folder were previously stored in representations_facenet.pkl. If you added new instances after the creation, then please delete this file and call find function again. It will create it again.\n",
      "There are  54  representations found in  representations_facenet.pkl\n",
      "find function lasts  0.13152599334716797  seconds\n",
      "WARNING: Representations for images in C:\\Users\\wigar\\AppData\\Local\\Temp\\tmpd4a4o48c folder were previously stored in representations_facenet.pkl. If you added new instances after the creation, then please delete this file and call find function again. It will create it again.\n",
      "There are  54  representations found in  representations_facenet.pkl\n",
      "find function lasts  0.13361310958862305  seconds\n",
      "WARNING: Representations for images in C:\\Users\\wigar\\AppData\\Local\\Temp\\tmpd4a4o48c folder were previously stored in representations_facenet.pkl. If you added new instances after the creation, then please delete this file and call find function again. It will create it again.\n",
      "There are  54  representations found in  representations_facenet.pkl\n",
      "find function lasts  0.13015198707580566  seconds\n",
      "WARNING: Representations for images in C:\\Users\\wigar\\AppData\\Local\\Temp\\tmpd4a4o48c folder were previously stored in representations_facenet.pkl. If you added new instances after the creation, then please delete this file and call find function again. It will create it again.\n",
      "There are  54  representations found in  representations_facenet.pkl\n",
      "find function lasts  0.13554883003234863  seconds\n",
      "WARNING: Representations for images in C:\\Users\\wigar\\AppData\\Local\\Temp\\tmpd4a4o48c folder were previously stored in representations_facenet.pkl. If you added new instances after the creation, then please delete this file and call find function again. It will create it again.\n",
      "There are  54  representations found in  representations_facenet.pkl\n",
      "find function lasts  0.14068293571472168  seconds\n",
      "WARNING: Representations for images in C:\\Users\\wigar\\AppData\\Local\\Temp\\tmpd4a4o48c folder were previously stored in representations_facenet.pkl. If you added new instances after the creation, then please delete this file and call find function again. It will create it again.\n",
      "There are  54  representations found in  representations_facenet.pkl\n",
      "find function lasts  0.1396191120147705  seconds\n",
      "WARNING: Representations for images in C:\\Users\\wigar\\AppData\\Local\\Temp\\tmpd4a4o48c folder were previously stored in representations_facenet.pkl. If you added new instances after the creation, then please delete this file and call find function again. It will create it again.\n",
      "There are  54  representations found in  representations_facenet.pkl\n",
      "find function lasts  0.1376492977142334  seconds\n",
      "WARNING: Representations for images in C:\\Users\\wigar\\AppData\\Local\\Temp\\tmpd4a4o48c folder were previously stored in representations_facenet.pkl. If you added new instances after the creation, then please delete this file and call find function again. It will create it again.\n",
      "There are  54  representations found in  representations_facenet.pkl\n"
     ]
    },
    {
     "name": "stdout",
     "output_type": "stream",
     "text": [
      "find function lasts  0.16226792335510254  seconds\n",
      "WARNING: Representations for images in C:\\Users\\wigar\\AppData\\Local\\Temp\\tmpd4a4o48c folder were previously stored in representations_facenet.pkl. If you added new instances after the creation, then please delete this file and call find function again. It will create it again.\n",
      "There are  54  representations found in  representations_facenet.pkl\n",
      "find function lasts  0.17204809188842773  seconds\n",
      "WARNING: Representations for images in C:\\Users\\wigar\\AppData\\Local\\Temp\\tmpd4a4o48c folder were previously stored in representations_facenet.pkl. If you added new instances after the creation, then please delete this file and call find function again. It will create it again.\n",
      "There are  54  representations found in  representations_facenet.pkl\n",
      "find function lasts  0.19208478927612305  seconds\n",
      "WARNING: Representations for images in C:\\Users\\wigar\\AppData\\Local\\Temp\\tmpd4a4o48c folder were previously stored in representations_facenet.pkl. If you added new instances after the creation, then please delete this file and call find function again. It will create it again.\n",
      "There are  54  representations found in  representations_facenet.pkl\n",
      "find function lasts  0.181013822555542  seconds\n",
      "WARNING: Representations for images in C:\\Users\\wigar\\AppData\\Local\\Temp\\tmpd4a4o48c folder were previously stored in representations_facenet.pkl. If you added new instances after the creation, then please delete this file and call find function again. It will create it again.\n",
      "There are  54  representations found in  representations_facenet.pkl\n",
      "find function lasts  0.1668858528137207  seconds\n",
      "WARNING: Representations for images in C:\\Users\\wigar\\AppData\\Local\\Temp\\tmpd4a4o48c folder were previously stored in representations_facenet.pkl. If you added new instances after the creation, then please delete this file and call find function again. It will create it again.\n",
      "There are  54  representations found in  representations_facenet.pkl\n",
      "find function lasts  0.17672085762023926  seconds\n",
      "WARNING: Representations for images in C:\\Users\\wigar\\AppData\\Local\\Temp\\tmpd4a4o48c folder were previously stored in representations_facenet.pkl. If you added new instances after the creation, then please delete this file and call find function again. It will create it again.\n",
      "There are  54  representations found in  representations_facenet.pkl\n",
      "find function lasts  0.18393635749816895  seconds\n",
      "\n",
      "0 _  Ajmila_Shada\n",
      "1 _  Ajmila_Shada\n",
      "2 _  Ajmila_Shada\n",
      "3 _  Ajmila_Shada\n",
      "4 _  Ajmila_Shada\n",
      "Unknown Face detected\n",
      "6 _  Ajmila_Shada\n",
      "Unknown Face detected\n",
      "8 _  Ajmila_Shada\n",
      "9 _  Ajmila_Shada\n",
      "Unknown Face detected\n",
      "Unknown Face detected\n",
      "12 _  Ajmila_Shada\n",
      "13 _  Ajmila_Shada\n",
      "14 _  Ajmila_Shada\n",
      "15 _  Ajmila_Shada\n",
      "16 _  Ajmila_Shada\n",
      "Unknown Face detected\n",
      "18 _  Ajmila_Shada\n",
      "19 _  Ajmila_Shada\n",
      "20 _  Ajmila_Shada\n",
      "21 _  Ajmila_Shada\n",
      "22 _  Ajmila_Shada\n",
      "23 _  Ajmila_Shada\n",
      "24 _  Ajmila_Shada\n",
      "Unknown Face detected\n",
      "26 _  Ajmila_Shada\n",
      "Ajmila_Shada\n",
      "CPU times: total: 10.2 s\n",
      "Wall time: 12.3 s\n"
     ]
    }
   ],
   "source": [
    "# recognize faces and get present students\n",
    "%%time\n",
    "present=rdb.recognize(detected_faces)\n",
    "for name in present:\n",
    "    print(name)"
   ]
  },
  {
   "cell_type": "code",
   "execution_count": 5,
   "id": "bb6f8539",
   "metadata": {},
   "outputs": [
    {
     "name": "stdout",
     "output_type": "stream",
     "text": [
      "Pinged your deployment. You successfully connected to MongoDB!\n",
      "Absent Students: ['A_Nafih', 'Abhiram_C', 'Akshay_P', 'Amal_G', 'Ameeza', 'Anagha_A_S', 'Anusree', 'Ardra', 'Arjun_CM', 'Arjun_P_J', 'Arjun_V', 'Ashish', 'Ashni_Chinnu', 'Aslam', 'Aswanth', 'Aswathi_P_V', 'Athira', 'Athul_Benny', 'Devanarayan_S_R', 'Devika_J', 'Faizan_T_P', 'Fathih_A_F', 'Jyothish_P_S', 'Krishnendu', 'Muhammed_Asad', 'Neha_P', 'Nivya', 'Ramnath_S', 'Sayooj', 'Sreeraj_E_K', 'Thejas_M', 'Tona_Antony', 'Veekshita_C_H', 'Veenus', 'Vyshna_S', 'Vyshnav_K', 'Yadhu_Krishna']\n"
     ]
    }
   ],
   "source": [
    "#get absent students\n",
    "absent = rdb.get_absent_students(present)\n",
    "print(\"Absent Students:\", absent)"
   ]
  },
  {
   "cell_type": "code",
   "execution_count": 6,
   "id": "8af019ee",
   "metadata": {},
   "outputs": [
    {
     "name": "stdout",
     "output_type": "stream",
     "text": [
      "Enter class: 2k20\n",
      "Enter period: abc\n"
     ]
    }
   ],
   "source": [
    "#mark attendance and generate csv file\n",
    "batch = input('Enter class: ')\n",
    "period = input('Enter period: ')\n",
    "date = datetime.now().strftime('%Y-%m-%d')\n",
    "time = datetime.now().strftime('%H:%M:%S')\n",
    "present = present  # You need to define the 'present' list here\n",
    "absent = absent   # You need to define the 'absent' list here\n"
   ]
  },
  {
   "cell_type": "code",
   "execution_count": 7,
   "id": "bd8966e1",
   "metadata": {},
   "outputs": [
    {
     "name": "stdout",
     "output_type": "stream",
     "text": [
      "Pinged your deployment. You successfully connected to MongoDB!\n",
      "CSV file generated successfully.\n"
     ]
    }
   ],
   "source": [
    "MarkAttendance.mark_attendance(batch,period,date,time,present,absent)\n"
   ]
  },
  {
   "cell_type": "code",
   "execution_count": null,
   "id": "e07cbb19",
   "metadata": {},
   "outputs": [],
   "source": []
  },
  {
   "cell_type": "code",
   "execution_count": null,
   "id": "ae5b9f54",
   "metadata": {},
   "outputs": [],
   "source": []
  },
  {
   "cell_type": "code",
   "execution_count": null,
   "id": "ec0a661b",
   "metadata": {},
   "outputs": [],
   "source": []
  },
  {
   "cell_type": "code",
   "execution_count": null,
   "id": "fb567166",
   "metadata": {},
   "outputs": [],
   "source": []
  },
  {
   "cell_type": "code",
   "execution_count": null,
   "id": "ae04794f",
   "metadata": {},
   "outputs": [],
   "source": [
    "\n",
    "  \n",
    "  "
   ]
  },
  {
   "cell_type": "code",
   "execution_count": null,
   "id": "10ac61b5",
   "metadata": {},
   "outputs": [],
   "source": []
  },
  {
   "cell_type": "code",
   "execution_count": null,
   "id": "7ffdd90d",
   "metadata": {},
   "outputs": [],
   "source": []
  },
  {
   "cell_type": "code",
   "execution_count": null,
   "id": "c57f6f39",
   "metadata": {},
   "outputs": [],
   "source": []
  }
 ],
 "metadata": {
  "kernelspec": {
   "display_name": "Python 3 (ipykernel)",
   "language": "python",
   "name": "python3"
  },
  "language_info": {
   "codemirror_mode": {
    "name": "ipython",
    "version": 3
   },
   "file_extension": ".py",
   "mimetype": "text/x-python",
   "name": "python",
   "nbconvert_exporter": "python",
   "pygments_lexer": "ipython3",
   "version": "3.11.5"
  }
 },
 "nbformat": 4,
 "nbformat_minor": 5
}
